{
 "cells": [
  {
   "cell_type": "markdown",
   "metadata": {},
   "source": [
    "# Create a Batch Service From Multiple Attribute Groups"
   ]
  },
  {
   "cell_type": "code",
   "execution_count": 3,
   "metadata": {},
   "outputs": [],
   "source": [
    "from snowplow_signals import Signals\n",
    "from dotenv import load_dotenv\n",
    "import os\n",
    "\n",
    "load_dotenv()\n",
    "\n",
    "sp_signals = Signals(\n",
    "    api_url=os.environ[\"SP_API_URL\"],\n",
    "    api_key=os.environ[\"SP_API_KEY\"],\n",
    "    api_key_id=os.environ[\"SP_API_KEY_ID\"],\n",
    "    org_id=os.environ[\"SP_ORG_ID\"],\n",
    ")"
   ]
  },
  {
   "cell_type": "markdown",
   "metadata": {},
   "source": [
    "## Define a new service\n",
    "\n",
    "List the attribute groups (name and version) that your service depends on:"
   ]
  },
  {
   "cell_type": "code",
   "execution_count": 1,
   "metadata": {},
   "outputs": [],
   "source": [
    "from snowplow_signals import Service\n",
    "\n",
    "service = Service(\n",
    "    name=\"batch_service\",\n",
    "    attribute_groups=[\n",
    "        {\"name\": \"product_recommendations\", \"version\": 1},\n",
    "        {\"name\": \"user_activity\", \"version\": 1},\n",
    "    ],\n",
    "    owner=\"user@company.com\",\n",
    ")\n",
    "\n"
   ]
  },
  {
   "cell_type": "markdown",
   "metadata": {},
   "source": [
    "## Publish the service\n",
    "\n",
    "Publish the attribute group to start processing it."
   ]
  },
  {
   "cell_type": "code",
   "execution_count": 4,
   "metadata": {},
   "outputs": [
    {
     "data": {
      "text/plain": [
       "[Service(name='batch_service', description=None, attribute_groups=[VersionedLinkAttributeGroup(name='product_recommendations', version=1), VersionedLinkAttributeGroup(name='user_activity', version=1)], tags=None, owner='user@company.com', is_published=True)]"
      ]
     },
     "execution_count": 4,
     "metadata": {},
     "output_type": "execute_result"
    }
   ],
   "source": [
    "sp_signals.publish([service])"
   ]
  },
  {
   "cell_type": "markdown",
   "metadata": {},
   "source": [
    "# Retrieve attributes for the service"
   ]
  },
  {
   "cell_type": "code",
   "execution_count": null,
   "metadata": {},
   "outputs": [],
   "source": [
    "service.get_attributes(\n",
    "    signals=sp_signals,\n",
    "    attribute_key=\"user_id\",\n",
    "    identifier=\"user_001\",\n",
    ")"
   ]
  }
 ],
 "metadata": {
  "kernelspec": {
   "display_name": "testenv",
   "language": "python",
   "name": "python3"
  },
  "language_info": {
   "codemirror_mode": {
    "name": "ipython",
    "version": 3
   },
   "file_extension": ".py",
   "mimetype": "text/x-python",
   "name": "python",
   "nbconvert_exporter": "python",
   "pygments_lexer": "ipython3",
   "version": "3.12.9"
  }
 },
 "nbformat": 4,
 "nbformat_minor": 2
}
