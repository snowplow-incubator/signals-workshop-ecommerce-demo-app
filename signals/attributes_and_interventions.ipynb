{
 "cells": [
  {
   "cell_type": "markdown",
   "metadata": {},
   "source": [
    "## Test for interventions"
   ]
  },
  {
   "cell_type": "code",
   "execution_count": null,
   "metadata": {},
   "outputs": [],
   "source": [
    "from snowplow_signals import Signals\n",
    "from dotenv import load_dotenv\n",
    "import os\n",
    "\n",
    "load_dotenv()\n",
    "\n",
    "sp_signals = Signals(\n",
    "    api_url=os.environ[\"SP_API_URL\"],\n",
    "    api_key=os.environ[\"SP_API_KEY\"],\n",
    "    api_key_id=os.environ[\"SP_API_KEY_ID\"],\n",
    "    org_id=os.environ[\"SP_ORG_ID\"],\n",
    ")"
   ]
  },
  {
   "cell_type": "markdown",
   "metadata": {},
   "source": [
    "### Define a new attribute\n",
    "\n",
    "This block creates a single feature definition including the logic how it should be calculated (it's filters and aggregation).\n",
    "\n",
    "The feature calculates the number of add to cart ecommerce events."
   ]
  },
  {
   "cell_type": "code",
   "execution_count": null,
   "metadata": {},
   "outputs": [],
   "source": [
    "from snowplow_signals import (\n",
    "    Attribute,\n",
    "    Event,\n",
    "    Criterion,\n",
    "    Criteria,\n",
    "    EventProperty,\n",
    "    EntityProperty,\n",
    ")\n",
    "\n",
    "count_product_views = Attribute(\n",
    "    # TODO\n",
    ")\n",
    "\n",
    "count_add_to_cart = Attribute(\n",
    "    # TODO\n",
    ")\n",
    "\n",
    "total_cart_value = Attribute(\n",
    "    # TODO\n",
    ")\n"
   ]
  },
  {
   "cell_type": "markdown",
   "metadata": {},
   "source": [
    "### Wrapping the attribute in a group\n",
    "\n",
    "All features need to be included in feature views that can be considered as \"tables\" of features.\n",
    "\n",
    "Attribute groups are immutable and versioned."
   ]
  },
  {
   "cell_type": "code",
   "execution_count": null,
   "metadata": {},
   "outputs": [],
   "source": [
    "from snowplow_signals import StreamView, domain_userid\n",
    "\n",
    "view = StreamView(\n",
    "    name=\"ecom_attributes\",\n",
    "    # TODO\n",
    ")"
   ]
  },
  {
   "cell_type": "markdown",
   "metadata": {},
   "source": [
    "### Testing the view\n",
    "\n",
    "Execute the feature view on the last one hour of data from the atomic events table to verify that it works correctly."
   ]
  },
  {
   "cell_type": "code",
   "execution_count": null,
   "metadata": {},
   "outputs": [],
   "source": [
    "sp_signals.test(view=view)"
   ]
  },
  {
   "cell_type": "markdown",
   "metadata": {},
   "source": [
    "### Wrap the attribute group in a service"
   ]
  },
  {
   "cell_type": "code",
   "execution_count": null,
   "metadata": {},
   "outputs": [],
   "source": [
    "from snowplow_signals import Service\n",
    "\n",
    "service = Service(\n",
    "    # TODO\n",
    ")"
   ]
  },
  {
   "cell_type": "markdown",
   "metadata": {},
   "source": [
    "### Publish the attribute group and service\n",
    "\n",
    "Pulbish the attribute group to start processing it."
   ]
  },
  {
   "cell_type": "code",
   "execution_count": null,
   "metadata": {},
   "outputs": [],
   "source": [
    "sp_signals.apply([view, service])"
   ]
  },
  {
   "cell_type": "markdown",
   "metadata": {},
   "source": [
    "### Retrieve attributes for the service"
   ]
  },
  {
   "cell_type": "code",
   "execution_count": null,
   "metadata": {},
   "outputs": [],
   "source": [
    "service.get_attributes(\n",
    "    signals=sp_signals,\n",
    "    entity=\"domain_userid\",\n",
    "    identifier=\"be240d67-f4bf-4f66-9b19-0338a31c1c17\",\n",
    ")"
   ]
  },
  {
   "cell_type": "markdown",
   "metadata": {},
   "source": [
    "### Create interventions"
   ]
  },
  {
   "cell_type": "code",
   "execution_count": null,
   "metadata": {},
   "outputs": [],
   "source": [
    "from snowplow_signals import (\n",
    "    RuleIntervention,\n",
    "    InterventionCriterion,\n",
    ")\n",
    "\n",
    "cart_abandonment_intervention = RuleIntervention(\n",
    "    # TODO\n",
    ")\n",
    "\n",
    "discount_intervention = RuleIntervention(\n",
    "    # TODO\n",
    ")\n",
    "\n",
    "free_shipping_intervention = RuleIntervention(\n",
    "    # TODO\n",
    ")\n"
   ]
  },
  {
   "cell_type": "markdown",
   "metadata": {},
   "source": [
    "### Apply the intervention"
   ]
  },
  {
   "cell_type": "code",
   "execution_count": null,
   "metadata": {},
   "outputs": [],
   "source": [
    "sp_signals.apply(\n",
    "    [\n",
    "        cart_abandonment_intervention,\n",
    "        discount_intervention,\n",
    "        free_shipping_intervention,\n",
    "    ]\n",
    ")\n"
   ]
  }
 ],
 "metadata": {
  "kernelspec": {
   "display_name": "venv",
   "language": "python",
   "name": "python3"
  },
  "language_info": {
   "codemirror_mode": {
    "name": "ipython",
    "version": 3
   },
   "file_extension": ".py",
   "mimetype": "text/x-python",
   "name": "python",
   "nbconvert_exporter": "python",
   "pygments_lexer": "ipython3",
   "version": "3.11.7"
  }
 },
 "nbformat": 4,
 "nbformat_minor": 2
}
