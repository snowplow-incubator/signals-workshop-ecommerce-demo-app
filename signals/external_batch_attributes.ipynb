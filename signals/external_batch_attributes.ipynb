{
 "cells": [
  {
   "cell_type": "markdown",
   "metadata": {},
   "source": [
    "## Define an External Batch Attribute Group (via SDK)"
   ]
  },
  {
   "cell_type": "code",
   "execution_count": null,
   "metadata": {},
   "outputs": [],
   "source": [
    "from snowplow_signals import Signals\n",
    "from dotenv import load_dotenv\n",
    "import os\n",
    "\n",
    "load_dotenv()\n",
    "\n",
    "sp_signals = Signals(\n",
    "    api_url=os.environ[\"SP_API_URL\"],\n",
    "    api_key=os.environ[\"SP_API_KEY\"],\n",
    "    api_key_id=os.environ[\"SP_API_KEY_ID\"],\n",
    "    org_id=os.environ[\"SP_ORG_ID\"],\n",
    ")"
   ]
  },
  {
   "cell_type": "markdown",
   "metadata": {},
   "source": [
    "### Define a new data source\n",
    "\n",
    "This block creates a data source for a Snowflake table."
   ]
  },
  {
   "cell_type": "code",
   "execution_count": null,
   "metadata": {},
   "outputs": [],
   "source": [
    "from snowplow_signals import BatchSource\n",
    "\n",
    "data_source = BatchSource(\n",
    "    name=\"product_recommendations\",\n",
    "    database=\"snowplow_sales_aws_prod1_db\",\n",
    "    schema=\"signals_test_derived\",\n",
    "    table=\"product_recommendations\",\n",
    "    timestamp_field=\"updated_at\",\n",
    ")"
   ]
  },
  {
   "cell_type": "markdown",
   "metadata": {},
   "source": [
    "### Create an attribute group with the table fields\n",
    "\n",
    "Attribute groups define the attributes inside the data sources and the attribute key types they relate to."
   ]
  },
  {
   "cell_type": "code",
   "execution_count": null,
   "metadata": {},
   "outputs": [],
   "source": [
    "from snowplow_signals import ExternalBatchAttributeGroup, user_id, Field\n",
    "\n",
    "attribute_group = ExternalBatchAttributeGroup(\n",
    "    name=\"product_recommendations\",\n",
    "    version=1,\n",
    "    attribute_key=user_id,\n",
    "    fields=[\n",
    "        Field(\n",
    "            name=\"main_interest\",\n",
    "            type=\"string\",\n",
    "        ),\n",
    "        Field(\n",
    "            name=\"recommendation_score\",\n",
    "            type=\"double\",\n",
    "        ),\n",
    "        Field(\n",
    "            name=\"loyalty_segment\",\n",
    "            type=\"string\",\n",
    "        ),\n",
    "    ],\n",
    "    batch_source=data_source,\n",
    "    owner=\"user@company.com\",\n",
    ")"
   ]
  },
  {
   "cell_type": "markdown",
   "metadata": {},
   "source": [
    "### Applying the data source and attribute group to Signals\n",
    "\n",
    "The following block pushes the data source and attribute group definition to the Signals API and makes it available for a background CRON job that incrementally materializes the data from the warehouse table to the online attribute store."
   ]
  },
  {
   "cell_type": "code",
   "execution_count": null,
   "metadata": {},
   "outputs": [],
   "source": [
    "published = sp_signals.publish([attribute_group])\n",
    "print(f\"{len(published)} objects published\")"
   ]
  },
  {
   "cell_type": "markdown",
   "metadata": {},
   "source": [
    "# Wrap the attribute group in a service"
   ]
  },
  {
   "cell_type": "code",
   "execution_count": null,
   "metadata": {},
   "outputs": [],
   "source": [
    "from snowplow_signals import Service\n",
    "\n",
    "service = Service(\n",
    "    name=\"batch_service\",\n",
    "    attribute_groups=[attribute_group],\n",
    "    owner=\"user@company.com\",\n",
    ")"
   ]
  },
  {
   "cell_type": "markdown",
   "metadata": {},
   "source": [
    "# Publish the service\n",
    "\n",
    "Publish the attribute group to start processing it."
   ]
  },
  {
   "cell_type": "code",
   "execution_count": null,
   "metadata": {},
   "outputs": [],
   "source": [
    "sp_signals.publish([service])"
   ]
  },
  {
   "cell_type": "markdown",
   "metadata": {},
   "source": [
    "# Retrieve attributes for the service"
   ]
  },
  {
   "cell_type": "code",
   "execution_count": null,
   "metadata": {},
   "outputs": [],
   "source": [
    "service.get_attributes(\n",
    "    signals=sp_signals,\n",
    "    attribute_key=\"user_id\",\n",
    "    identifier=\"user_001\",\n",
    ")"
   ]
  }
 ],
 "metadata": {
  "kernelspec": {
   "display_name": "testenv",
   "language": "python",
   "name": "python3"
  },
  "language_info": {
   "codemirror_mode": {
    "name": "ipython",
    "version": 3
   },
   "file_extension": ".py",
   "mimetype": "text/x-python",
   "name": "python",
   "nbconvert_exporter": "python",
   "pygments_lexer": "ipython3",
   "version": "3.12.9"
  }
 },
 "nbformat": 4,
 "nbformat_minor": 2
}
