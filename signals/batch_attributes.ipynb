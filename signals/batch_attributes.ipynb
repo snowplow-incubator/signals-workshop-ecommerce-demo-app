{
 "cells": [
  {
   "cell_type": "markdown",
   "metadata": {},
   "source": [
    "## Define a Batch Attribute Group (via SDK)"
   ]
  },
  {
   "cell_type": "code",
   "execution_count": 5,
   "metadata": {},
   "outputs": [],
   "source": [
    "from snowplow_signals import Signals\n",
    "from dotenv import load_dotenv\n",
    "import os\n",
    "\n",
    "load_dotenv()\n",
    "\n",
    "sp_signals = Signals(\n",
    "    api_url=os.environ[\"SP_API_URL\"],\n",
    "    api_key=os.environ[\"SP_API_KEY\"],\n",
    "    api_key_id=os.environ[\"SP_API_KEY_ID\"],\n",
    "    org_id=os.environ[\"SP_ORG_ID\"],\n",
    ")\n"
   ]
  },
  {
   "cell_type": "markdown",
   "metadata": {},
   "source": [
    "### Define attributes\n",
    "\n",
    "This block creates attribute definitions including the logic how it should be calculated (it's filters and aggregation)."
   ]
  },
  {
   "cell_type": "code",
   "execution_count": null,
   "metadata": {},
   "outputs": [],
   "source": [
    "from snowplow_signals import (\n",
    "    Attribute,\n",
    "    Event,\n",
    "    Criterion,\n",
    "    Criteria,\n",
    "    EventProperty,\n",
    "    EntityProperty,\n",
    ")\n",
    "\n",
    "sum_transaction_value_ltv = Attribute(\n",
    "    name=\"sum_transaction_value_ltv\",\n",
    "    type=\"float\",\n",
    "    events=[\n",
    "        Event(\n",
    "            vendor=\"com.snowplowanalytics.snowplow.ecommerce\",\n",
    "            name=\"snowplow_ecommerce_action\",\n",
    "            version=\"1-0-2\",\n",
    "        )\n",
    "    ],\n",
    "    aggregation=\"sum\",\n",
    "    property=EntityProperty(\n",
    "        vendor=\"com.snowplowanalytics.snowplow.ecommerce\",\n",
    "        name=\"transaction\",\n",
    "        major_version=1,\n",
    "        path=\"revenue\",\n",
    "    ),\n",
    "    criteria=Criteria(\n",
    "        all=[\n",
    "            Criterion.eq(\n",
    "                EventProperty(\n",
    "                    vendor=\"com.snowplowanalytics.snowplow.ecommerce\",\n",
    "                    name=\"snowplow_ecommerce_action\",\n",
    "                    major_version=1,\n",
    "                    path=\"type\",\n",
    "                ),\n",
    "                \"transaction\",\n",
    "            )   \n",
    "        ]\n",
    "    ),\n",
    ")\n",
    "\n",
    "last_product_category_purchased = Attribute(\n",
    "    name=\"last_product_category_purchased\",\n",
    "    type=\"string\",\n",
    "    events=[\n",
    "        Event(\n",
    "            vendor=\"com.snowplowanalytics.snowplow.ecommerce\",\n",
    "            name=\"snowplow_ecommerce_action\",\n",
    "            version=\"1-0-2\",\n",
    "        )\n",
    "    ],\n",
    "    aggregation=\"last\",\n",
    "    property=EntityProperty(\n",
    "        vendor=\"com.snowplowanalytics.snowplow.ecommerce\",\n",
    "        name=\"product\",\n",
    "        major_version=1,\n",
    "        path=\"category\",\n",
    "    ),\n",
    ")\n"
   ]
  },
  {
   "cell_type": "markdown",
   "metadata": {},
   "source": [
    "### Wrapping the attribute in a group\n",
    "\n",
    "All attributes need to be included in attribute groups that can be considered as \"tables\" of attributes.\n",
    "\n",
    "Attribute groups are immutable and versioned."
   ]
  },
  {
   "cell_type": "code",
   "execution_count": null,
   "metadata": {},
   "outputs": [],
   "source": [
    "from snowplow_signals import BatchAttributeGroup, user_id\n",
    "\n",
    "attribute_group = BatchAttributeGroup(\n",
    "    name=\"user_activity\",\n",
    "    version=1,\n",
    "    attribute_key=user_id,\n",
    "    attributes=[\n",
    "        sum_transaction_value_ltv, last_product_category_purchased\n",
    "    ],\n",
    "    owner=\"user@company.com\",\n",
    ")"
   ]
  },
  {
   "cell_type": "markdown",
   "metadata": {},
   "source": [
    "### Testing the attribute group\n",
    "\n",
    "Execute the attribute group on the last one hour of data from the atomic events table to verify that it works correctly."
   ]
  },
  {
   "cell_type": "code",
   "execution_count": null,
   "metadata": {},
   "outputs": [],
   "source": [
    "sp_signals.test(attribute_group=attribute_group)"
   ]
  },
  {
   "cell_type": "markdown",
   "metadata": {},
   "source": [
    "# Unpublish the attribute group\n",
    "\n",
    "Unpublish the attribute group to make it available for the Batch Engine to process it."
   ]
  },
  {
   "cell_type": "code",
   "execution_count": null,
   "metadata": {},
   "outputs": [],
   "source": [
    "sp_signals.unpublish([attribute_group])"
   ]
  },
  {
   "cell_type": "markdown",
   "metadata": {},
   "source": [
    "# Follow the Batch Engine [Tutorial](https://deploy-preview-1197--snowplow-docs.netlify.app/tutorials/signals-batch-engine/start/)\n",
    "You will need to go through the following steps:\n",
    "- use the Batch Engine CLI tool to generate the dbt project and models\n",
    "- configure your dbt setup / test / make modifications if needed / set up a regular dbt run schedule\n",
    "- use the Batch Engine CLI to define the Batch Source and to publish your attribute group for the sync to begin"
   ]
  },
  {
   "cell_type": "markdown",
   "metadata": {},
   "source": [
    "# Wrap the attribute group in a service"
   ]
  },
  {
   "cell_type": "code",
   "execution_count": null,
   "metadata": {},
   "outputs": [],
   "source": [
    "from snowplow_signals import Service\n",
    "service = Service(\n",
    "    name=\"user_activity\",\n",
    "    attribute_groups=[attribute_group],\n",
    "    owner=\"user@company.com\",\n",
    ")"
   ]
  },
  {
   "cell_type": "markdown",
   "metadata": {},
   "source": [
    "# Retrieve attributes for the service"
   ]
  },
  {
   "cell_type": "code",
   "execution_count": null,
   "metadata": {},
   "outputs": [],
   "source": [
    "service.get_attributes(\n",
    "    signals=sp_signals,\n",
    "    attribute_key=\"user_id\",\n",
    "    identifier=\"user_id_1\",\n",
    ")"
   ]
  }
 ],
 "metadata": {
  "kernelspec": {
   "display_name": "testenv",
   "language": "python",
   "name": "python3"
  },
  "language_info": {
   "codemirror_mode": {
    "name": "ipython",
    "version": 3
   },
   "file_extension": ".py",
   "mimetype": "text/x-python",
   "name": "python",
   "nbconvert_exporter": "python",
   "pygments_lexer": "ipython3",
   "version": "3.12.9"
  }
 },
 "nbformat": 4,
 "nbformat_minor": 2
}
